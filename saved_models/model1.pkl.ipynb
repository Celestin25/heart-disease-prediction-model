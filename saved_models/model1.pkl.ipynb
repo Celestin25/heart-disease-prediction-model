{
  "nbformat": 4,
  "nbformat_minor": 0,
  "metadata": {
    "colab": {
      "provenance": []
    },
    "kernelspec": {
      "name": "python3",
      "display_name": "Python 3"
    },
    "language_info": {
      "name": "python"
    }
  },
  "cells": [
    {
      "cell_type": "markdown",
      "source": [
        "Import Necessary Libraries\n"
      ],
      "metadata": {
        "id": "ygKAlTCRxljE"
      }
    },
    {
      "cell_type": "code",
      "source": [
        "import numpy as np\n",
        "import pandas as pd\n",
        "import tensorflow as tf\n",
        "from tensorflow.keras import layers, models, regularizers\n",
        "from sklearn.model_selection import train_test_split\n",
        "from sklearn.preprocessing import StandardScaler\n",
        "from sklearn.metrics import confusion_matrix, classification_report\n"
      ],
      "metadata": {
        "id": "7E8k0plsxzSt"
      },
      "execution_count": null,
      "outputs": []
    },
    {
      "cell_type": "markdown",
      "source": [
        "Load and Preprocess the Data"
      ],
      "metadata": {
        "id": "_Fuov7ZwyA8t"
      }
    },
    {
      "cell_type": "code",
      "source": [
        "# Load the dataset\n",
        "df = pd.read_csv('/content/heart_disease_data (1).csv')\n",
        "\n",
        "# Split features and target\n",
        "X = df.drop('target', axis=1)\n",
        "y = df['target']\n",
        "from keras.models import load_model\n",
        "\n",
        "\n",
        "\n",
        "\n",
        "# Standardize the features\n",
        "scaler = StandardScaler()\n",
        "X_scaled = scaler.fit_transform(X)\n",
        "\n",
        "# Split the data into training, validation, and test sets\n",
        "X_train, X_test, y_train, y_test = train_test_split(X_scaled, y, test_size=0.2, random_state=42)\n",
        "X_train, X_val, y_train, y_val = train_test_split(X_train, y_train, test_size=0.25, random_state=42)  # 0.25 x 0.8 = 0.2\n"
      ],
      "metadata": {
        "id": "d6BJiCWkyDea"
      },
      "execution_count": null,
      "outputs": []
    },
    {
      "cell_type": "markdown",
      "source": [
        "Build the Simple Neural Network Model"
      ],
      "metadata": {
        "id": "-G8DWD6HyK6u"
      }
    },
    {
      "cell_type": "code",
      "source": [
        "def build_simple_model(input_shape):\n",
        "    model = models.Sequential([\n",
        "        layers.Dense(32, activation='relu', input_shape=(input_shape,)),\n",
        "        layers.Dense(16, activation='relu'),\n",
        "        layers.Dense(1, activation='sigmoid')\n",
        "    ])\n",
        "\n",
        "    model.compile(optimizer='adam',\n",
        "                  loss='binary_crossentropy',\n",
        "                  metrics=['accuracy'])\n",
        "\n",
        "    return model\n",
        "\n",
        "simple_model = build_simple_model(X_train.shape[1])"
      ],
      "metadata": {
        "id": "JOKJYQs9yOHA"
      },
      "execution_count": null,
      "outputs": []
    },
    {
      "cell_type": "markdown",
      "source": [
        "Train the Simple Model"
      ],
      "metadata": {
        "id": "EaV2K-l2yVjM"
      }
    },
    {
      "cell_type": "code",
      "source": [
        "history = simple_model.fit(X_train, y_train, epochs=100, validation_data=(X_val, y_val), verbose=2)\n"
      ],
      "metadata": {
        "colab": {
          "base_uri": "https://localhost:8080/"
        },
        "id": "zn_5BgpsyZDB",
        "outputId": "dc3710ff-434d-4ce2-a5b7-5b29354fc968"
      },
      "execution_count": null,
      "outputs": [
        {
          "output_type": "stream",
          "name": "stdout",
          "text": [
            "Epoch 1/100\n",
            "6/6 - 1s - loss: 0.7179 - accuracy: 0.4586 - val_loss: 0.7100 - val_accuracy: 0.5082 - 1s/epoch - 202ms/step\n",
            "Epoch 2/100\n",
            "6/6 - 0s - loss: 0.6911 - accuracy: 0.5304 - val_loss: 0.6907 - val_accuracy: 0.5574 - 42ms/epoch - 7ms/step\n",
            "Epoch 3/100\n",
            "6/6 - 0s - loss: 0.6662 - accuracy: 0.5801 - val_loss: 0.6724 - val_accuracy: 0.5738 - 43ms/epoch - 7ms/step\n",
            "Epoch 4/100\n",
            "6/6 - 0s - loss: 0.6437 - accuracy: 0.6298 - val_loss: 0.6550 - val_accuracy: 0.5738 - 62ms/epoch - 10ms/step\n",
            "Epoch 5/100\n",
            "6/6 - 0s - loss: 0.6211 - accuracy: 0.7017 - val_loss: 0.6382 - val_accuracy: 0.5574 - 60ms/epoch - 10ms/step\n",
            "Epoch 6/100\n",
            "6/6 - 0s - loss: 0.6012 - accuracy: 0.7403 - val_loss: 0.6208 - val_accuracy: 0.5738 - 48ms/epoch - 8ms/step\n",
            "Epoch 7/100\n",
            "6/6 - 0s - loss: 0.5794 - accuracy: 0.7680 - val_loss: 0.6036 - val_accuracy: 0.6066 - 47ms/epoch - 8ms/step\n",
            "Epoch 8/100\n",
            "6/6 - 0s - loss: 0.5592 - accuracy: 0.7901 - val_loss: 0.5868 - val_accuracy: 0.6721 - 60ms/epoch - 10ms/step\n",
            "Epoch 9/100\n",
            "6/6 - 0s - loss: 0.5402 - accuracy: 0.8011 - val_loss: 0.5708 - val_accuracy: 0.6885 - 63ms/epoch - 10ms/step\n",
            "Epoch 10/100\n",
            "6/6 - 0s - loss: 0.5197 - accuracy: 0.8177 - val_loss: 0.5559 - val_accuracy: 0.6885 - 46ms/epoch - 8ms/step\n",
            "Epoch 11/100\n",
            "6/6 - 0s - loss: 0.5023 - accuracy: 0.8232 - val_loss: 0.5417 - val_accuracy: 0.7049 - 49ms/epoch - 8ms/step\n",
            "Epoch 12/100\n",
            "6/6 - 0s - loss: 0.4838 - accuracy: 0.8232 - val_loss: 0.5281 - val_accuracy: 0.7213 - 64ms/epoch - 11ms/step\n",
            "Epoch 13/100\n",
            "6/6 - 0s - loss: 0.4665 - accuracy: 0.8343 - val_loss: 0.5153 - val_accuracy: 0.7541 - 66ms/epoch - 11ms/step\n",
            "Epoch 14/100\n",
            "6/6 - 0s - loss: 0.4502 - accuracy: 0.8453 - val_loss: 0.5037 - val_accuracy: 0.7541 - 60ms/epoch - 10ms/step\n",
            "Epoch 15/100\n",
            "6/6 - 0s - loss: 0.4341 - accuracy: 0.8398 - val_loss: 0.4938 - val_accuracy: 0.7541 - 60ms/epoch - 10ms/step\n",
            "Epoch 16/100\n",
            "6/6 - 0s - loss: 0.4207 - accuracy: 0.8453 - val_loss: 0.4848 - val_accuracy: 0.7541 - 57ms/epoch - 10ms/step\n",
            "Epoch 17/100\n",
            "6/6 - 0s - loss: 0.4071 - accuracy: 0.8453 - val_loss: 0.4764 - val_accuracy: 0.7705 - 58ms/epoch - 10ms/step\n",
            "Epoch 18/100\n",
            "6/6 - 0s - loss: 0.3943 - accuracy: 0.8453 - val_loss: 0.4698 - val_accuracy: 0.7869 - 45ms/epoch - 8ms/step\n",
            "Epoch 19/100\n",
            "6/6 - 0s - loss: 0.3839 - accuracy: 0.8453 - val_loss: 0.4640 - val_accuracy: 0.7869 - 59ms/epoch - 10ms/step\n",
            "Epoch 20/100\n",
            "6/6 - 0s - loss: 0.3729 - accuracy: 0.8453 - val_loss: 0.4578 - val_accuracy: 0.7869 - 43ms/epoch - 7ms/step\n",
            "Epoch 21/100\n",
            "6/6 - 0s - loss: 0.3629 - accuracy: 0.8453 - val_loss: 0.4529 - val_accuracy: 0.7869 - 45ms/epoch - 7ms/step\n",
            "Epoch 22/100\n",
            "6/6 - 0s - loss: 0.3546 - accuracy: 0.8453 - val_loss: 0.4480 - val_accuracy: 0.7869 - 72ms/epoch - 12ms/step\n",
            "Epoch 23/100\n",
            "6/6 - 0s - loss: 0.3463 - accuracy: 0.8453 - val_loss: 0.4446 - val_accuracy: 0.7869 - 45ms/epoch - 7ms/step\n",
            "Epoch 24/100\n",
            "6/6 - 0s - loss: 0.3391 - accuracy: 0.8453 - val_loss: 0.4422 - val_accuracy: 0.7869 - 60ms/epoch - 10ms/step\n",
            "Epoch 25/100\n",
            "6/6 - 0s - loss: 0.3321 - accuracy: 0.8508 - val_loss: 0.4400 - val_accuracy: 0.7869 - 58ms/epoch - 10ms/step\n",
            "Epoch 26/100\n",
            "6/6 - 0s - loss: 0.3256 - accuracy: 0.8564 - val_loss: 0.4384 - val_accuracy: 0.7705 - 61ms/epoch - 10ms/step\n",
            "Epoch 27/100\n",
            "6/6 - 0s - loss: 0.3202 - accuracy: 0.8674 - val_loss: 0.4367 - val_accuracy: 0.7705 - 60ms/epoch - 10ms/step\n",
            "Epoch 28/100\n",
            "6/6 - 0s - loss: 0.3146 - accuracy: 0.8674 - val_loss: 0.4359 - val_accuracy: 0.7705 - 48ms/epoch - 8ms/step\n",
            "Epoch 29/100\n",
            "6/6 - 0s - loss: 0.3098 - accuracy: 0.8729 - val_loss: 0.4368 - val_accuracy: 0.7541 - 66ms/epoch - 11ms/step\n",
            "Epoch 30/100\n",
            "6/6 - 0s - loss: 0.3053 - accuracy: 0.8729 - val_loss: 0.4361 - val_accuracy: 0.7541 - 43ms/epoch - 7ms/step\n",
            "Epoch 31/100\n",
            "6/6 - 0s - loss: 0.3009 - accuracy: 0.8729 - val_loss: 0.4358 - val_accuracy: 0.7541 - 42ms/epoch - 7ms/step\n",
            "Epoch 32/100\n",
            "6/6 - 0s - loss: 0.2971 - accuracy: 0.8729 - val_loss: 0.4376 - val_accuracy: 0.7541 - 61ms/epoch - 10ms/step\n",
            "Epoch 33/100\n",
            "6/6 - 0s - loss: 0.2929 - accuracy: 0.8785 - val_loss: 0.4375 - val_accuracy: 0.7541 - 42ms/epoch - 7ms/step\n",
            "Epoch 34/100\n",
            "6/6 - 0s - loss: 0.2894 - accuracy: 0.8840 - val_loss: 0.4359 - val_accuracy: 0.7541 - 42ms/epoch - 7ms/step\n",
            "Epoch 35/100\n",
            "6/6 - 0s - loss: 0.2853 - accuracy: 0.8785 - val_loss: 0.4362 - val_accuracy: 0.7541 - 48ms/epoch - 8ms/step\n",
            "Epoch 36/100\n",
            "6/6 - 0s - loss: 0.2822 - accuracy: 0.8785 - val_loss: 0.4357 - val_accuracy: 0.7541 - 60ms/epoch - 10ms/step\n",
            "Epoch 37/100\n",
            "6/6 - 0s - loss: 0.2782 - accuracy: 0.8840 - val_loss: 0.4374 - val_accuracy: 0.7541 - 58ms/epoch - 10ms/step\n",
            "Epoch 38/100\n",
            "6/6 - 0s - loss: 0.2750 - accuracy: 0.8840 - val_loss: 0.4389 - val_accuracy: 0.7541 - 41ms/epoch - 7ms/step\n",
            "Epoch 39/100\n",
            "6/6 - 0s - loss: 0.2718 - accuracy: 0.8840 - val_loss: 0.4405 - val_accuracy: 0.7541 - 59ms/epoch - 10ms/step\n",
            "Epoch 40/100\n",
            "6/6 - 0s - loss: 0.2689 - accuracy: 0.8895 - val_loss: 0.4406 - val_accuracy: 0.7541 - 41ms/epoch - 7ms/step\n",
            "Epoch 41/100\n",
            "6/6 - 0s - loss: 0.2658 - accuracy: 0.8895 - val_loss: 0.4411 - val_accuracy: 0.7541 - 41ms/epoch - 7ms/step\n",
            "Epoch 42/100\n",
            "6/6 - 0s - loss: 0.2626 - accuracy: 0.8895 - val_loss: 0.4427 - val_accuracy: 0.7541 - 42ms/epoch - 7ms/step\n",
            "Epoch 43/100\n",
            "6/6 - 0s - loss: 0.2599 - accuracy: 0.8895 - val_loss: 0.4442 - val_accuracy: 0.7541 - 60ms/epoch - 10ms/step\n",
            "Epoch 44/100\n",
            "6/6 - 0s - loss: 0.2566 - accuracy: 0.8895 - val_loss: 0.4459 - val_accuracy: 0.7541 - 62ms/epoch - 10ms/step\n",
            "Epoch 45/100\n",
            "6/6 - 0s - loss: 0.2540 - accuracy: 0.8895 - val_loss: 0.4475 - val_accuracy: 0.7541 - 60ms/epoch - 10ms/step\n",
            "Epoch 46/100\n",
            "6/6 - 0s - loss: 0.2515 - accuracy: 0.8950 - val_loss: 0.4483 - val_accuracy: 0.7541 - 61ms/epoch - 10ms/step\n",
            "Epoch 47/100\n",
            "6/6 - 0s - loss: 0.2488 - accuracy: 0.8950 - val_loss: 0.4494 - val_accuracy: 0.7541 - 42ms/epoch - 7ms/step\n",
            "Epoch 48/100\n",
            "6/6 - 0s - loss: 0.2464 - accuracy: 0.9006 - val_loss: 0.4509 - val_accuracy: 0.7541 - 59ms/epoch - 10ms/step\n",
            "Epoch 49/100\n",
            "6/6 - 0s - loss: 0.2438 - accuracy: 0.9006 - val_loss: 0.4532 - val_accuracy: 0.7541 - 61ms/epoch - 10ms/step\n",
            "Epoch 50/100\n",
            "6/6 - 0s - loss: 0.2414 - accuracy: 0.9006 - val_loss: 0.4540 - val_accuracy: 0.7541 - 41ms/epoch - 7ms/step\n",
            "Epoch 51/100\n",
            "6/6 - 0s - loss: 0.2390 - accuracy: 0.9006 - val_loss: 0.4548 - val_accuracy: 0.7541 - 40ms/epoch - 7ms/step\n",
            "Epoch 52/100\n",
            "6/6 - 0s - loss: 0.2372 - accuracy: 0.9006 - val_loss: 0.4570 - val_accuracy: 0.7541 - 56ms/epoch - 9ms/step\n",
            "Epoch 53/100\n",
            "6/6 - 0s - loss: 0.2346 - accuracy: 0.9006 - val_loss: 0.4586 - val_accuracy: 0.7541 - 58ms/epoch - 10ms/step\n",
            "Epoch 54/100\n",
            "6/6 - 0s - loss: 0.2321 - accuracy: 0.9006 - val_loss: 0.4595 - val_accuracy: 0.7541 - 43ms/epoch - 7ms/step\n",
            "Epoch 55/100\n",
            "6/6 - 0s - loss: 0.2300 - accuracy: 0.9061 - val_loss: 0.4599 - val_accuracy: 0.7541 - 42ms/epoch - 7ms/step\n",
            "Epoch 56/100\n",
            "6/6 - 0s - loss: 0.2280 - accuracy: 0.9116 - val_loss: 0.4606 - val_accuracy: 0.7541 - 41ms/epoch - 7ms/step\n",
            "Epoch 57/100\n",
            "6/6 - 0s - loss: 0.2256 - accuracy: 0.9116 - val_loss: 0.4606 - val_accuracy: 0.7541 - 59ms/epoch - 10ms/step\n",
            "Epoch 58/100\n",
            "6/6 - 0s - loss: 0.2232 - accuracy: 0.9116 - val_loss: 0.4627 - val_accuracy: 0.7541 - 53ms/epoch - 9ms/step\n",
            "Epoch 59/100\n",
            "6/6 - 0s - loss: 0.2210 - accuracy: 0.9116 - val_loss: 0.4647 - val_accuracy: 0.7541 - 59ms/epoch - 10ms/step\n",
            "Epoch 60/100\n",
            "6/6 - 0s - loss: 0.2189 - accuracy: 0.9116 - val_loss: 0.4652 - val_accuracy: 0.7541 - 64ms/epoch - 11ms/step\n",
            "Epoch 61/100\n",
            "6/6 - 0s - loss: 0.2168 - accuracy: 0.9171 - val_loss: 0.4651 - val_accuracy: 0.7541 - 61ms/epoch - 10ms/step\n",
            "Epoch 62/100\n",
            "6/6 - 0s - loss: 0.2144 - accuracy: 0.9227 - val_loss: 0.4658 - val_accuracy: 0.7541 - 57ms/epoch - 9ms/step\n",
            "Epoch 63/100\n",
            "6/6 - 0s - loss: 0.2123 - accuracy: 0.9227 - val_loss: 0.4686 - val_accuracy: 0.7541 - 41ms/epoch - 7ms/step\n",
            "Epoch 64/100\n",
            "6/6 - 0s - loss: 0.2100 - accuracy: 0.9282 - val_loss: 0.4676 - val_accuracy: 0.7705 - 45ms/epoch - 7ms/step\n",
            "Epoch 65/100\n",
            "6/6 - 0s - loss: 0.2077 - accuracy: 0.9282 - val_loss: 0.4668 - val_accuracy: 0.7705 - 42ms/epoch - 7ms/step\n",
            "Epoch 66/100\n",
            "6/6 - 0s - loss: 0.2055 - accuracy: 0.9337 - val_loss: 0.4673 - val_accuracy: 0.7705 - 58ms/epoch - 10ms/step\n",
            "Epoch 67/100\n",
            "6/6 - 0s - loss: 0.2031 - accuracy: 0.9337 - val_loss: 0.4690 - val_accuracy: 0.7705 - 43ms/epoch - 7ms/step\n",
            "Epoch 68/100\n",
            "6/6 - 0s - loss: 0.2009 - accuracy: 0.9337 - val_loss: 0.4701 - val_accuracy: 0.7705 - 42ms/epoch - 7ms/step\n",
            "Epoch 69/100\n",
            "6/6 - 0s - loss: 0.1989 - accuracy: 0.9337 - val_loss: 0.4719 - val_accuracy: 0.7705 - 46ms/epoch - 8ms/step\n",
            "Epoch 70/100\n",
            "6/6 - 0s - loss: 0.1967 - accuracy: 0.9392 - val_loss: 0.4724 - val_accuracy: 0.7705 - 42ms/epoch - 7ms/step\n",
            "Epoch 71/100\n",
            "6/6 - 0s - loss: 0.1944 - accuracy: 0.9392 - val_loss: 0.4742 - val_accuracy: 0.7705 - 44ms/epoch - 7ms/step\n",
            "Epoch 72/100\n",
            "6/6 - 0s - loss: 0.1921 - accuracy: 0.9448 - val_loss: 0.4756 - val_accuracy: 0.7705 - 44ms/epoch - 7ms/step\n",
            "Epoch 73/100\n",
            "6/6 - 0s - loss: 0.1898 - accuracy: 0.9448 - val_loss: 0.4773 - val_accuracy: 0.7705 - 58ms/epoch - 10ms/step\n",
            "Epoch 74/100\n",
            "6/6 - 0s - loss: 0.1879 - accuracy: 0.9448 - val_loss: 0.4797 - val_accuracy: 0.7705 - 42ms/epoch - 7ms/step\n",
            "Epoch 75/100\n",
            "6/6 - 0s - loss: 0.1856 - accuracy: 0.9392 - val_loss: 0.4827 - val_accuracy: 0.7705 - 42ms/epoch - 7ms/step\n",
            "Epoch 76/100\n",
            "6/6 - 0s - loss: 0.1834 - accuracy: 0.9392 - val_loss: 0.4865 - val_accuracy: 0.7541 - 42ms/epoch - 7ms/step\n",
            "Epoch 77/100\n",
            "6/6 - 0s - loss: 0.1809 - accuracy: 0.9392 - val_loss: 0.4896 - val_accuracy: 0.7541 - 55ms/epoch - 9ms/step\n",
            "Epoch 78/100\n",
            "6/6 - 0s - loss: 0.1788 - accuracy: 0.9392 - val_loss: 0.4922 - val_accuracy: 0.7541 - 41ms/epoch - 7ms/step\n",
            "Epoch 79/100\n",
            "6/6 - 0s - loss: 0.1765 - accuracy: 0.9392 - val_loss: 0.4932 - val_accuracy: 0.7541 - 59ms/epoch - 10ms/step\n",
            "Epoch 80/100\n",
            "6/6 - 0s - loss: 0.1743 - accuracy: 0.9503 - val_loss: 0.4964 - val_accuracy: 0.7377 - 42ms/epoch - 7ms/step\n",
            "Epoch 81/100\n",
            "6/6 - 0s - loss: 0.1724 - accuracy: 0.9503 - val_loss: 0.5012 - val_accuracy: 0.7377 - 41ms/epoch - 7ms/step\n",
            "Epoch 82/100\n",
            "6/6 - 0s - loss: 0.1701 - accuracy: 0.9503 - val_loss: 0.5045 - val_accuracy: 0.7377 - 149ms/epoch - 25ms/step\n",
            "Epoch 83/100\n",
            "6/6 - 0s - loss: 0.1678 - accuracy: 0.9558 - val_loss: 0.5081 - val_accuracy: 0.7377 - 116ms/epoch - 19ms/step\n",
            "Epoch 84/100\n",
            "6/6 - 0s - loss: 0.1653 - accuracy: 0.9558 - val_loss: 0.5121 - val_accuracy: 0.7377 - 68ms/epoch - 11ms/step\n",
            "Epoch 85/100\n",
            "6/6 - 0s - loss: 0.1631 - accuracy: 0.9558 - val_loss: 0.5149 - val_accuracy: 0.7377 - 40ms/epoch - 7ms/step\n",
            "Epoch 86/100\n",
            "6/6 - 0s - loss: 0.1607 - accuracy: 0.9558 - val_loss: 0.5181 - val_accuracy: 0.7377 - 41ms/epoch - 7ms/step\n",
            "Epoch 87/100\n",
            "6/6 - 0s - loss: 0.1586 - accuracy: 0.9558 - val_loss: 0.5235 - val_accuracy: 0.7377 - 43ms/epoch - 7ms/step\n",
            "Epoch 88/100\n",
            "6/6 - 0s - loss: 0.1565 - accuracy: 0.9558 - val_loss: 0.5258 - val_accuracy: 0.7377 - 47ms/epoch - 8ms/step\n",
            "Epoch 89/100\n",
            "6/6 - 0s - loss: 0.1542 - accuracy: 0.9558 - val_loss: 0.5269 - val_accuracy: 0.7377 - 42ms/epoch - 7ms/step\n",
            "Epoch 90/100\n",
            "6/6 - 0s - loss: 0.1520 - accuracy: 0.9558 - val_loss: 0.5308 - val_accuracy: 0.7377 - 41ms/epoch - 7ms/step\n",
            "Epoch 91/100\n",
            "6/6 - 0s - loss: 0.1498 - accuracy: 0.9558 - val_loss: 0.5354 - val_accuracy: 0.7377 - 42ms/epoch - 7ms/step\n",
            "Epoch 92/100\n",
            "6/6 - 0s - loss: 0.1475 - accuracy: 0.9558 - val_loss: 0.5363 - val_accuracy: 0.7377 - 57ms/epoch - 9ms/step\n",
            "Epoch 93/100\n",
            "6/6 - 0s - loss: 0.1456 - accuracy: 0.9613 - val_loss: 0.5385 - val_accuracy: 0.7541 - 46ms/epoch - 8ms/step\n",
            "Epoch 94/100\n",
            "6/6 - 0s - loss: 0.1434 - accuracy: 0.9613 - val_loss: 0.5420 - val_accuracy: 0.7541 - 73ms/epoch - 12ms/step\n",
            "Epoch 95/100\n",
            "6/6 - 0s - loss: 0.1410 - accuracy: 0.9613 - val_loss: 0.5444 - val_accuracy: 0.7377 - 261ms/epoch - 43ms/step\n",
            "Epoch 96/100\n",
            "6/6 - 0s - loss: 0.1390 - accuracy: 0.9613 - val_loss: 0.5467 - val_accuracy: 0.7377 - 139ms/epoch - 23ms/step\n",
            "Epoch 97/100\n",
            "6/6 - 0s - loss: 0.1371 - accuracy: 0.9613 - val_loss: 0.5490 - val_accuracy: 0.7377 - 79ms/epoch - 13ms/step\n",
            "Epoch 98/100\n",
            "6/6 - 0s - loss: 0.1353 - accuracy: 0.9613 - val_loss: 0.5498 - val_accuracy: 0.7377 - 76ms/epoch - 13ms/step\n",
            "Epoch 99/100\n",
            "6/6 - 0s - loss: 0.1334 - accuracy: 0.9613 - val_loss: 0.5536 - val_accuracy: 0.7377 - 71ms/epoch - 12ms/step\n",
            "Epoch 100/100\n",
            "6/6 - 0s - loss: 0.1318 - accuracy: 0.9613 - val_loss: 0.5549 - val_accuracy: 0.7377 - 77ms/epoch - 13ms/step\n"
          ]
        }
      ]
    }
  ]
}